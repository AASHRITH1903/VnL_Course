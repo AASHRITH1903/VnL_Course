{
 "cells": [
  {
   "cell_type": "code",
   "execution_count": 1,
   "metadata": {},
   "outputs": [],
   "source": [
    "import torch\n",
    "\n",
    "import os\n",
    "\n",
    "'''\n",
    "If you are using Colab, make sure to add the relevant CIR folder to the system path. Alternatively, \n",
    " you can adjust the import statements below based on the location of your files.\n",
    "'''\n",
    "\n",
    "from data_loader import get_loader\n",
    "from utils import Ranker\n",
    "from todo import Model, Criterion, train, val"
   ]
  },
  {
   "cell_type": "code",
   "execution_count": 2,
   "metadata": {},
   "outputs": [],
   "source": [
    "# You can change hyper-parameters to achieve higher retrieval performance\n",
    "class Args():\n",
    "    def __init__(self):\n",
    "        # Dataset\n",
    "        self.data_root = \"./\" # Remember to change the path to your data\n",
    "        self.data_set = \"dress\"\n",
    "        self.image_root = os.path.join(self.data_root, 'data/resized_images/')\n",
    "        self.caption_path = os.path.join(self.data_root, 'data/captions/cap.{}.{}.json')\n",
    "        self.split_path = os.path.join(self.data_root, 'data/image_splits/split.{}.{}.json')\n",
    "\n",
    "        # Model\n",
    "        self.embed_dim = 512\n",
    "        self.vision_feature_dim = 512\n",
    "        self.text_feature_dim = 512\n",
    "\n",
    "        # Training\n",
    "        self.log_step = 15\n",
    "        self.batch_size = 64\n",
    "        self.learning_rate = 0.001\n",
    "        self.num_workers = 4\n",
    "        self.epochs = 3\n",
    "        self.device = torch.device('cuda' if torch.cuda.is_available() else 'cpu')\n",
    "args = Args()"
   ]
  },
  {
   "cell_type": "code",
   "execution_count": 3,
   "metadata": {},
   "outputs": [],
   "source": [
    "# Build data loader\n",
    "data_loader = get_loader(\n",
    "    args.image_root.format(args.data_set),\n",
    "    args.caption_path.format(args.data_set, 'train'),\n",
    "    args.batch_size,\n",
    "    shuffle=True, \n",
    "    return_target=True, \n",
    "    num_workers=args.num_workers,\n",
    ")\n",
    "data_loader_dev = get_loader(\n",
    "    args.image_root.format(args.data_set),\n",
    "    args.caption_path.format(args.data_set, 'val'),\n",
    "    args.batch_size, \n",
    "    shuffle=False, \n",
    "    return_target=True, \n",
    "    num_workers=args.num_workers,\n",
    ")"
   ]
  },
  {
   "cell_type": "code",
   "execution_count": 4,
   "metadata": {},
   "outputs": [],
   "source": [
    "# Build model, criterion, oprimizer, evaluator\n",
    "model = Model(args.vision_feature_dim, args.text_feature_dim, args.embed_dim)\n",
    "model.to(args.device)\n",
    "model.train()\n",
    "criterion = Criterion()\n",
    "current_lr = args.learning_rate\n",
    "optimizer = torch.optim.Adam(filter(lambda p: p.requires_grad, model.parameters()), lr=current_lr)\n",
    "ranker = Ranker(root=args.image_root.format(args.data_set), image_split_file=args.split_path.format(args.data_set, 'val'), transform=None, num_workers=args.num_workers)"
   ]
  },
  {
   "cell_type": "code",
   "execution_count": 12,
   "metadata": {},
   "outputs": [
    {
     "name": "stdout",
     "output_type": "stream",
     "text": [
      "training loss: 4.185\n",
      "training loss: 2.950\n",
      "training loss: 3.004\n",
      "training loss: 2.720\n",
      "training loss: 2.630\n",
      "training loss: 2.462\n",
      "training loss: 2.597\n",
      "updating emb\n",
      "emb updated\n",
      "-----------------------------------------------------------------------------\n",
      "| score  0.86004 /  0.86004 \n",
      "-----------------------------------------------------------------------------\n",
      "best_dev_score: 0.8600368244909697\n",
      "0.8600368244909697\n"
     ]
    }
   ],
   "source": [
    "# Start training\n",
    "best_score = 0\n",
    "# for epoch in range(args.epochs):\n",
    "for epoch in range(1):\n",
    "    train(data_loader, model, criterion, optimizer, args.log_step)\n",
    "    best_score = val(data_loader_dev, model, ranker, best_score)\n",
    "print(best_score)"
   ]
  },
  {
   "cell_type": "markdown",
   "metadata": {},
   "source": [
    "### Note: Stopping the training loop after one epoch because of less computational resourses.\n",
    "\n",
    "##### Best Development Score achieved ~ 0.86 \n"
   ]
  }
 ],
 "metadata": {
  "kernelspec": {
   "display_name": "hw1",
   "language": "python",
   "name": "python3"
  },
  "language_info": {
   "codemirror_mode": {
    "name": "ipython",
    "version": 3
   },
   "file_extension": ".py",
   "mimetype": "text/x-python",
   "name": "python",
   "nbconvert_exporter": "python",
   "pygments_lexer": "ipython3",
   "version": "3.9.6"
  },
  "orig_nbformat": 4
 },
 "nbformat": 4,
 "nbformat_minor": 2
}
